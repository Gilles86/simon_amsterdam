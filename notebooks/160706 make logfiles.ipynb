{
 "cells": [
  {
   "cell_type": "code",
   "execution_count": 179,
   "metadata": {
    "collapsed": true
   },
   "outputs": [],
   "source": [
    "import pandas"
   ]
  },
  {
   "cell_type": "markdown",
   "metadata": {},
   "source": [
    "## This is a helper function for the get_data"
   ]
  },
  {
   "cell_type": "code",
   "execution_count": 212,
   "metadata": {
    "collapsed": true
   },
   "outputs": [],
   "source": [
    "def flip(string):\n",
    "    \n",
    "    d = {'house':'face',\n",
    "         'face':'house',\n",
    "         'faces':'houses',\n",
    "         'houses':'faces',\n",
    "          'left':'right',\n",
    "          'right':'left',\n",
    "        'continuous':'intermittent',\n",
    "        'intermittent':'continuous'}\n",
    "    \n",
    "    return d[string]"
   ]
  },
  {
   "cell_type": "markdown",
   "metadata": {},
   "source": [
    "## This function extracts useful behavioral measures from the clean logfile"
   ]
  },
  {
   "cell_type": "code",
   "execution_count": 213,
   "metadata": {
    "collapsed": true
   },
   "outputs": [],
   "source": [
    "def get_data(fn):\n",
    "    \n",
    "    # Get mapping\n",
    "    f = open(fn)\n",
    "\n",
    "    lines=f.readlines()\n",
    "\n",
    "    tactile_mapping = dict([(lines[0].split()[0], lines[0].split()[-2])])    \n",
    "    tactile_mapping[flip(tactile_mapping.keys()[0])] = flip(tactile_mapping.values()[0])\n",
    "    \n",
    "    visual_mapping = dict([(lines[1].split()[0][:-1], lines[1].split()[-2])])\n",
    "    visual_mapping[flip(visual_mapping.keys()[0])] = flip(visual_mapping.values()[0])    \n",
    "    \n",
    "    mapping = tactile_mapping.copy()\n",
    "    mapping.update(visual_mapping)\n",
    "    \n",
    "    # Get data\n",
    "    df = pandas.read_csv(fn, skiprows=3, sep='\\t', index_col=False, header=None)\n",
    "    \n",
    "    df.columns = ['blocknr', 'blockcon', 'trialnr', 'houses', 'continuous', 'rightStim', 'VisStim_fn', 'ITI', 'button', 'RT', 'slow', None][:len(df.columns)]\n",
    "    \n",
    "    df['houses'] = df['houses'].map({'true':True, 'false':False, '':np.nan})\n",
    "    df['continuous'] = df['continuous'].map({'true':True, 'false':False, '':np.nan})\n",
    "    df['modality'] = df['blockcon'].map({\"Tac\":\"Tactile\", \"Vis\":\"Visual\"})\n",
    "\n",
    "    df.ix[df.modality == \"Visual\", 'stimulus'] = df.ix[df.modality == \"Visual\", 'houses'].map({True:'house', False:'face'})\n",
    "    df.ix[df.modality == \"Tactile\", 'stimulus'] = df.ix[df.modality == \"Tactile\", 'continuous'].map({True:'continuous', False:'intermittent'})\n",
    "\n",
    "\n",
    "    df['stimulus_location'] = df.rightStim.map({False:'left', True:'right'})\n",
    "    df['response'] = df.button.map({1:'left', 2:'right'})\n",
    "    \n",
    "    df['correct_answer'] = df.stimulus.map(mapping)\n",
    "\n",
    "    df['correct'] = df['correct_answer'] == df.response\n",
    "\n",
    "    df['congruent'] = df.stimulus_location == df.correct_answer\n",
    "    df['congruency'] = df.congruent.map({True:'congruent', False:'incongruent'})\n",
    "\n",
    "\n",
    "    # df['correct'] = ((df.blockcon == 'Vis') & (df.houses & (df.button == 2))) | ((df.blockcon == 'Tac') & (df.continuous & (df.button == 2)))\n",
    "\n",
    "    # df['modality'] = df['blockcon']\n",
    "    \n",
    "    return df\n",
    "    "
   ]
  },
  {
   "cell_type": "markdown",
   "metadata": {},
   "source": [
    "## Let's also load in the raw log to be able to get correct onsets"
   ]
  },
  {
   "cell_type": "code",
   "execution_count": 214,
   "metadata": {
    "collapsed": false
   },
   "outputs": [],
   "source": [
    "df_raw = pandas.read_csv('/home/gdholla1/data/simon_amsterdam/behavior/raw/001-SimonTactile.log', sep='\\t', skiprows=2)\n",
    "\n",
    "df_clean = get_data('/home/gdholla1/data/simon_amsterdam/behavior/raw/001_SimonTact.txt')\n",
    "\n",
    "df_clean.reset_index(inplace=True)\n",
    "# df_clean.columns = list(df_clean.columns[2:]) + ['slow', None]"
   ]
  },
  {
   "cell_type": "code",
   "execution_count": 215,
   "metadata": {
    "collapsed": false
   },
   "outputs": [
    {
     "data": {
      "text/html": [
       "<div>\n",
       "<table border=\"1\" class=\"dataframe\">\n",
       "  <thead>\n",
       "    <tr style=\"text-align: right;\">\n",
       "      <th></th>\n",
       "      <th>Subject</th>\n",
       "      <th>Trial</th>\n",
       "      <th>Event Type</th>\n",
       "      <th>Code</th>\n",
       "      <th>Time</th>\n",
       "      <th>TTime</th>\n",
       "      <th>Uncertainty</th>\n",
       "      <th>Duration</th>\n",
       "      <th>Uncertainty.1</th>\n",
       "      <th>ReqTime</th>\n",
       "      <th>ReqDur</th>\n",
       "      <th>Stim Type</th>\n",
       "      <th>Pair Index</th>\n",
       "    </tr>\n",
       "  </thead>\n",
       "  <tbody>\n",
       "    <tr>\n",
       "      <th>0</th>\n",
       "      <td>001</td>\n",
       "      <td>1</td>\n",
       "      <td>Picture</td>\n",
       "      <td>instruct</td>\n",
       "      <td>15466</td>\n",
       "      <td>0</td>\n",
       "      <td>1</td>\n",
       "      <td>110531</td>\n",
       "      <td>2</td>\n",
       "      <td>0</td>\n",
       "      <td>next</td>\n",
       "      <td>other</td>\n",
       "      <td>0</td>\n",
       "    </tr>\n",
       "    <tr>\n",
       "      <th>1</th>\n",
       "      <td>001</td>\n",
       "      <td>1</td>\n",
       "      <td>Response</td>\n",
       "      <td>2</td>\n",
       "      <td>125795</td>\n",
       "      <td>110329</td>\n",
       "      <td>1</td>\n",
       "      <td>NaN</td>\n",
       "      <td>NaN</td>\n",
       "      <td>NaN</td>\n",
       "      <td>NaN</td>\n",
       "      <td>NaN</td>\n",
       "      <td>NaN</td>\n",
       "    </tr>\n",
       "    <tr>\n",
       "      <th>2</th>\n",
       "      <td>001</td>\n",
       "      <td>2</td>\n",
       "      <td>Picture</td>\n",
       "      <td>instruct</td>\n",
       "      <td>128130</td>\n",
       "      <td>0</td>\n",
       "      <td>2</td>\n",
       "      <td>75066</td>\n",
       "      <td>3</td>\n",
       "      <td>0</td>\n",
       "      <td>next</td>\n",
       "      <td>other</td>\n",
       "      <td>0</td>\n",
       "    </tr>\n",
       "    <tr>\n",
       "      <th>3</th>\n",
       "      <td>001</td>\n",
       "      <td>2</td>\n",
       "      <td>Response</td>\n",
       "      <td>2</td>\n",
       "      <td>203102</td>\n",
       "      <td>74972</td>\n",
       "      <td>1</td>\n",
       "      <td>NaN</td>\n",
       "      <td>NaN</td>\n",
       "      <td>NaN</td>\n",
       "      <td>NaN</td>\n",
       "      <td>NaN</td>\n",
       "      <td>NaN</td>\n",
       "    </tr>\n",
       "    <tr>\n",
       "      <th>4</th>\n",
       "      <td>001</td>\n",
       "      <td>2</td>\n",
       "      <td>Response</td>\n",
       "      <td>2</td>\n",
       "      <td>542869</td>\n",
       "      <td>414739</td>\n",
       "      <td>1</td>\n",
       "      <td>NaN</td>\n",
       "      <td>NaN</td>\n",
       "      <td>NaN</td>\n",
       "      <td>NaN</td>\n",
       "      <td>NaN</td>\n",
       "      <td>NaN</td>\n",
       "    </tr>\n",
       "  </tbody>\n",
       "</table>\n",
       "</div>"
      ],
      "text/plain": [
       "  Subject Trial Event Type      Code    Time   TTime Uncertainty Duration  \\\n",
       "0     001     1    Picture  instruct   15466       0           1   110531   \n",
       "1     001     1   Response         2  125795  110329           1      NaN   \n",
       "2     001     2    Picture  instruct  128130       0           2    75066   \n",
       "3     001     2   Response         2  203102   74972           1      NaN   \n",
       "4     001     2   Response         2  542869  414739           1      NaN   \n",
       "\n",
       "  Uncertainty.1 ReqTime ReqDur Stim Type  Pair Index  \n",
       "0             2       0   next     other           0  \n",
       "1           NaN     NaN    NaN       NaN         NaN  \n",
       "2             3       0   next     other           0  \n",
       "3           NaN     NaN    NaN       NaN         NaN  \n",
       "4           NaN     NaN    NaN       NaN         NaN  "
      ]
     },
     "execution_count": 215,
     "metadata": {},
     "output_type": "execute_result"
    }
   ],
   "source": [
    "df_raw.head()"
   ]
  },
  {
   "cell_type": "markdown",
   "metadata": {},
   "source": [
    "## This code searches for the onsets at which the 8 block start"
   ]
  },
  {
   "cell_type": "code",
   "execution_count": 216,
   "metadata": {
    "collapsed": false
   },
   "outputs": [
    {
     "name": "stdout",
     "output_type": "stream",
     "text": [
      "instruct\n",
      "instruct\n",
      "instruct\n",
      "instruct\n",
      "instruct\n",
      "instruct\n",
      "instruct\n",
      "instruct\n",
      "instruct\n"
     ]
    }
   ],
   "source": [
    "df_block_starts = []\n",
    "\n",
    "n_instructs = -1 # Because the first block has two instruction screens\n",
    "block = 0\n",
    "last_time = 0\n",
    "\n",
    "\n",
    "\n",
    "for index, row in df_raw.iterrows():\n",
    "    \n",
    "    if block < 8:\n",
    "        if row['Code'] == 'instruct':\n",
    "            n_instructs += 1\n",
    "            print 'instruct'\n",
    "            last_time = int(row.Time)\n",
    "\n",
    "        if ((row['Event Type'] == 'Pulse') & (n_instructs == 1) & (int(row['Time']) - 10000 > last_time)):\n",
    "\n",
    "            block += 1\n",
    "\n",
    "            n_instructs = 0\n",
    "            df_block_starts.append({'block':block,\n",
    "                                    'time':row.Time})\n"
   ]
  },
  {
   "cell_type": "code",
   "execution_count": 217,
   "metadata": {
    "collapsed": false
   },
   "outputs": [
    {
     "data": {
      "text/plain": [
       "[{'block': 1, 'time': '608086'},\n",
       " {'block': 2, 'time': '4848126'},\n",
       " {'block': 3, 'time': '8823476'},\n",
       " {'block': 4, 'time': '12749238'},\n",
       " {'block': 5, 'time': '16812244'},\n",
       " {'block': 6, 'time': '20948898'},\n",
       " {'block': 7, 'time': '24822752'},\n",
       " {'block': 8, 'time': '28697396'}]"
      ]
     },
     "execution_count": 217,
     "metadata": {},
     "output_type": "execute_result"
    }
   ],
   "source": [
    "df_block_starts"
   ]
  },
  {
   "cell_type": "code",
   "execution_count": 219,
   "metadata": {
    "collapsed": false
   },
   "outputs": [
    {
     "data": {
      "text/html": [
       "<div>\n",
       "<table border=\"1\" class=\"dataframe\">\n",
       "  <thead>\n",
       "    <tr style=\"text-align: right;\">\n",
       "      <th></th>\n",
       "      <th>time</th>\n",
       "    </tr>\n",
       "    <tr>\n",
       "      <th>block</th>\n",
       "      <th></th>\n",
       "    </tr>\n",
       "  </thead>\n",
       "  <tbody>\n",
       "    <tr>\n",
       "      <th>1</th>\n",
       "      <td>608086</td>\n",
       "    </tr>\n",
       "    <tr>\n",
       "      <th>2</th>\n",
       "      <td>4848126</td>\n",
       "    </tr>\n",
       "    <tr>\n",
       "      <th>3</th>\n",
       "      <td>8823476</td>\n",
       "    </tr>\n",
       "    <tr>\n",
       "      <th>4</th>\n",
       "      <td>12749238</td>\n",
       "    </tr>\n",
       "    <tr>\n",
       "      <th>5</th>\n",
       "      <td>16812244</td>\n",
       "    </tr>\n",
       "    <tr>\n",
       "      <th>6</th>\n",
       "      <td>20948898</td>\n",
       "    </tr>\n",
       "    <tr>\n",
       "      <th>7</th>\n",
       "      <td>24822752</td>\n",
       "    </tr>\n",
       "    <tr>\n",
       "      <th>8</th>\n",
       "      <td>28697396</td>\n",
       "    </tr>\n",
       "  </tbody>\n",
       "</table>\n",
       "</div>"
      ],
      "text/plain": [
       "           time\n",
       "block          \n",
       "1        608086\n",
       "2       4848126\n",
       "3       8823476\n",
       "4      12749238\n",
       "5      16812244\n",
       "6      20948898\n",
       "7      24822752\n",
       "8      28697396"
      ]
     },
     "execution_count": 219,
     "metadata": {},
     "output_type": "execute_result"
    }
   ],
   "source": [
    "df_block_starts = pandas.DataFrame(df_block_starts).set_index('block')\n",
    "df_block_starts"
   ]
  },
  {
   "cell_type": "markdown",
   "metadata": {},
   "source": [
    "## Now put blocknrs and trials in this raw data, so we can merge later"
   ]
  },
  {
   "cell_type": "code",
   "execution_count": 220,
   "metadata": {
    "collapsed": false
   },
   "outputs": [],
   "source": [
    "df_raw = df_raw[df_raw.Code == 'redfix']\n",
    "df_raw['trial'] = np.arange(df_raw.shape[0])\n",
    "df_raw['blocknr'] = np.floor(df_raw.trial / 54) + 1\n",
    "df_raw['trialnr'] = np.floor(df_raw.trial % 54) + 1\n",
    "# df_raw['block_onset'] = df_raw"
   ]
  },
  {
   "cell_type": "code",
   "execution_count": 224,
   "metadata": {
    "collapsed": true
   },
   "outputs": [],
   "source": [
    "## Merge"
   ]
  },
  {
   "cell_type": "code",
   "execution_count": 225,
   "metadata": {
    "collapsed": false
   },
   "outputs": [],
   "source": [
    "df = df_raw.merge(df_clean, on=['trialnr', 'blocknr'])"
   ]
  },
  {
   "cell_type": "markdown",
   "metadata": {},
   "source": [
    "## Merge the block onsets and divide by 10000, so we get the onsets in seconds"
   ]
  },
  {
   "cell_type": "code",
   "execution_count": 226,
   "metadata": {
    "collapsed": false
   },
   "outputs": [],
   "source": [
    "df['block_onset'] = df.blocknr.map(df_block_starts.time)\n",
    "df['onset'] = (df['Time'].astype(float) - df['block_onset'].astype(float)) / 10000."
   ]
  },
  {
   "cell_type": "code",
   "execution_count": 227,
   "metadata": {
    "collapsed": false
   },
   "outputs": [
    {
     "data": {
      "text/html": [
       "<div>\n",
       "<table border=\"1\" class=\"dataframe\">\n",
       "  <thead>\n",
       "    <tr style=\"text-align: right;\">\n",
       "      <th></th>\n",
       "      <th>Subject</th>\n",
       "      <th>Trial</th>\n",
       "      <th>Event Type</th>\n",
       "      <th>Code</th>\n",
       "      <th>Time</th>\n",
       "      <th>TTime</th>\n",
       "      <th>Uncertainty</th>\n",
       "      <th>Duration</th>\n",
       "      <th>Uncertainty.1</th>\n",
       "      <th>ReqTime</th>\n",
       "      <th>...</th>\n",
       "      <th>modality</th>\n",
       "      <th>stimulus</th>\n",
       "      <th>stimulus_location</th>\n",
       "      <th>response</th>\n",
       "      <th>correct_answer</th>\n",
       "      <th>correct</th>\n",
       "      <th>congruent</th>\n",
       "      <th>congruency</th>\n",
       "      <th>block_onset</th>\n",
       "      <th>onset</th>\n",
       "    </tr>\n",
       "  </thead>\n",
       "  <tbody>\n",
       "    <tr>\n",
       "      <th>0</th>\n",
       "      <td>001</td>\n",
       "      <td>3</td>\n",
       "      <td>Picture</td>\n",
       "      <td>redfix</td>\n",
       "      <td>611188</td>\n",
       "      <td>3066</td>\n",
       "      <td>2</td>\n",
       "      <td>3067</td>\n",
       "      <td>3</td>\n",
       "      <td>2960</td>\n",
       "      <td>...</td>\n",
       "      <td>Visual</td>\n",
       "      <td>face</td>\n",
       "      <td>right</td>\n",
       "      <td>left</td>\n",
       "      <td>left</td>\n",
       "      <td>True</td>\n",
       "      <td>False</td>\n",
       "      <td>incongruent</td>\n",
       "      <td>608086</td>\n",
       "      <td>0.3102</td>\n",
       "    </tr>\n",
       "    <tr>\n",
       "      <th>1</th>\n",
       "      <td>001</td>\n",
       "      <td>5</td>\n",
       "      <td>Picture</td>\n",
       "      <td>redfix</td>\n",
       "      <td>651721</td>\n",
       "      <td>3067</td>\n",
       "      <td>1</td>\n",
       "      <td>3067</td>\n",
       "      <td>2</td>\n",
       "      <td>2960</td>\n",
       "      <td>...</td>\n",
       "      <td>Visual</td>\n",
       "      <td>face</td>\n",
       "      <td>right</td>\n",
       "      <td>left</td>\n",
       "      <td>left</td>\n",
       "      <td>True</td>\n",
       "      <td>False</td>\n",
       "      <td>incongruent</td>\n",
       "      <td>608086</td>\n",
       "      <td>4.3635</td>\n",
       "    </tr>\n",
       "    <tr>\n",
       "      <th>2</th>\n",
       "      <td>001</td>\n",
       "      <td>7</td>\n",
       "      <td>Picture</td>\n",
       "      <td>redfix</td>\n",
       "      <td>697187</td>\n",
       "      <td>3067</td>\n",
       "      <td>1</td>\n",
       "      <td>3066</td>\n",
       "      <td>3</td>\n",
       "      <td>2960</td>\n",
       "      <td>...</td>\n",
       "      <td>Visual</td>\n",
       "      <td>house</td>\n",
       "      <td>right</td>\n",
       "      <td>right</td>\n",
       "      <td>right</td>\n",
       "      <td>True</td>\n",
       "      <td>True</td>\n",
       "      <td>congruent</td>\n",
       "      <td>608086</td>\n",
       "      <td>8.9101</td>\n",
       "    </tr>\n",
       "    <tr>\n",
       "      <th>3</th>\n",
       "      <td>001</td>\n",
       "      <td>9</td>\n",
       "      <td>Picture</td>\n",
       "      <td>redfix</td>\n",
       "      <td>747719</td>\n",
       "      <td>3066</td>\n",
       "      <td>1</td>\n",
       "      <td>3067</td>\n",
       "      <td>2</td>\n",
       "      <td>2960</td>\n",
       "      <td>...</td>\n",
       "      <td>Visual</td>\n",
       "      <td>face</td>\n",
       "      <td>left</td>\n",
       "      <td>left</td>\n",
       "      <td>left</td>\n",
       "      <td>True</td>\n",
       "      <td>True</td>\n",
       "      <td>congruent</td>\n",
       "      <td>608086</td>\n",
       "      <td>13.9633</td>\n",
       "    </tr>\n",
       "    <tr>\n",
       "      <th>4</th>\n",
       "      <td>001</td>\n",
       "      <td>11</td>\n",
       "      <td>Picture</td>\n",
       "      <td>redfix</td>\n",
       "      <td>803185</td>\n",
       "      <td>3067</td>\n",
       "      <td>1</td>\n",
       "      <td>3067</td>\n",
       "      <td>2</td>\n",
       "      <td>2960</td>\n",
       "      <td>...</td>\n",
       "      <td>Visual</td>\n",
       "      <td>face</td>\n",
       "      <td>right</td>\n",
       "      <td>left</td>\n",
       "      <td>left</td>\n",
       "      <td>True</td>\n",
       "      <td>False</td>\n",
       "      <td>incongruent</td>\n",
       "      <td>608086</td>\n",
       "      <td>19.5099</td>\n",
       "    </tr>\n",
       "  </tbody>\n",
       "</table>\n",
       "<p>5 rows × 37 columns</p>\n",
       "</div>"
      ],
      "text/plain": [
       "  Subject Trial Event Type    Code    Time TTime Uncertainty Duration  \\\n",
       "0     001     3    Picture  redfix  611188  3066           2     3067   \n",
       "1     001     5    Picture  redfix  651721  3067           1     3067   \n",
       "2     001     7    Picture  redfix  697187  3067           1     3066   \n",
       "3     001     9    Picture  redfix  747719  3066           1     3067   \n",
       "4     001    11    Picture  redfix  803185  3067           1     3067   \n",
       "\n",
       "  Uncertainty.1 ReqTime   ...    modality stimulus  stimulus_location  \\\n",
       "0             3    2960   ...      Visual     face              right   \n",
       "1             2    2960   ...      Visual     face              right   \n",
       "2             3    2960   ...      Visual    house              right   \n",
       "3             2    2960   ...      Visual     face               left   \n",
       "4             2    2960   ...      Visual     face              right   \n",
       "\n",
       "   response  correct_answer  correct  congruent   congruency block_onset  \\\n",
       "0      left            left     True      False  incongruent      608086   \n",
       "1      left            left     True      False  incongruent      608086   \n",
       "2     right           right     True       True    congruent      608086   \n",
       "3      left            left     True       True    congruent      608086   \n",
       "4      left            left     True      False  incongruent      608086   \n",
       "\n",
       "     onset  \n",
       "0   0.3102  \n",
       "1   4.3635  \n",
       "2   8.9101  \n",
       "3  13.9633  \n",
       "4  19.5099  \n",
       "\n",
       "[5 rows x 37 columns]"
      ]
     },
     "execution_count": 227,
     "metadata": {},
     "output_type": "execute_result"
    }
   ],
   "source": [
    "df.head()"
   ]
  },
  {
   "cell_type": "code",
   "execution_count": 228,
   "metadata": {
    "collapsed": true
   },
   "outputs": [],
   "source": [
    "df['subject_id'] = 1\n",
    "df['run'] = df['blocknr']"
   ]
  },
  {
   "cell_type": "code",
   "execution_count": 229,
   "metadata": {
    "collapsed": true
   },
   "outputs": [],
   "source": [
    "df.to_pickle('/home/gdholla1/data/simon_amsterdam/behavior/all_data.pandas')"
   ]
  },
  {
   "cell_type": "code",
   "execution_count": null,
   "metadata": {
    "collapsed": true
   },
   "outputs": [],
   "source": []
  },
  {
   "cell_type": "code",
   "execution_count": null,
   "metadata": {
    "collapsed": true
   },
   "outputs": [],
   "source": []
  }
 ],
 "metadata": {
  "kernelspec": {
   "display_name": "Python 2",
   "language": "python",
   "name": "python2"
  },
  "language_info": {
   "codemirror_mode": {
    "name": "ipython",
    "version": 2
   },
   "file_extension": ".py",
   "mimetype": "text/x-python",
   "name": "python",
   "nbconvert_exporter": "python",
   "pygments_lexer": "ipython2",
   "version": "2.7.3"
  }
 },
 "nbformat": 4,
 "nbformat_minor": 0
}
